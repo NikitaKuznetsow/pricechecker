{
 "cells": [
  {
   "cell_type": "code",
   "execution_count": 2,
   "id": "a403a1ed",
   "metadata": {},
   "outputs": [],
   "source": [
    "import sqlite3\n",
    "import pandas as pd\n",
    "import numpy as np"
   ]
  },
  {
   "cell_type": "code",
   "execution_count": 28,
   "id": "b377e93b",
   "metadata": {},
   "outputs": [],
   "source": [
    "con = sqlite3.connect('items.db')\n",
    "cur = con.cursor()\n"
   ]
  },
  {
   "cell_type": "markdown",
   "id": "c44d346f",
   "metadata": {},
   "source": [
    "## Ozon"
   ]
  },
  {
   "cell_type": "code",
   "execution_count": 4,
   "id": "69c3b917",
   "metadata": {},
   "outputs": [],
   "source": [
    "cur.execute('SELECT * FROM main.items_ozon')\n",
    "res = cur.fetchall()\n",
    "columns = ['itemid', 'externalid', 'link', 'img', 'name', 'brand', 'rating', 'countreviews']\n",
    "df_ozon = pd.DataFrame(res, columns=columns)"
   ]
  },
  {
   "cell_type": "markdown",
   "id": "4c427b19",
   "metadata": {},
   "source": [
    "## Lamoda"
   ]
  },
  {
   "cell_type": "code",
   "execution_count": 5,
   "id": "3d6768c6",
   "metadata": {},
   "outputs": [],
   "source": [
    "cur.execute('SELECT * FROM main.items_lamoda')\n",
    "res = cur.fetchall()\n",
    "columns = ['itemid', 'link', 'img', 'name', 'brand', 'rating', 'countreviews']\n",
    "df_lamoda = pd.DataFrame(res, columns=columns)"
   ]
  },
  {
   "cell_type": "code",
   "execution_count": 6,
   "id": "b6e0baba",
   "metadata": {},
   "outputs": [],
   "source": [
    "def clean_name(x):\n",
    "    res = ' '.join(sorted(x.lower().replace('кроссовки', '').replace('кеды', '').strip().split()))\n",
    "    return res"
   ]
  },
  {
   "cell_type": "code",
   "execution_count": 7,
   "id": "eb5b3645",
   "metadata": {},
   "outputs": [
    {
     "name": "stderr",
     "output_type": "stream",
     "text": [
      "/var/folders/cb/n7klvybs09g2ycl4j5z4b5800000gn/T/ipykernel_1651/3058028791.py:2: SettingWithCopyWarning: \n",
      "A value is trying to be set on a copy of a slice from a DataFrame.\n",
      "Try using .loc[row_indexer,col_indexer] = value instead\n",
      "\n",
      "See the caveats in the documentation: https://pandas.pydata.org/pandas-docs/stable/user_guide/indexing.html#returning-a-view-versus-a-copy\n",
      "  df_ozon_['name'] = df_ozon_['name'].apply(clean_name)\n"
     ]
    }
   ],
   "source": [
    "df_ozon_ = df_ozon[['itemid', 'name', 'brand']]\n",
    "df_ozon_['name'] = df_ozon_['name'].apply(clean_name)\n",
    "df_ozon_ = df_ozon_.sort_values(by=['brand']).reset_index(drop=True)\n",
    "df_ozon_['source'] = 'ozon'"
   ]
  },
  {
   "cell_type": "code",
   "execution_count": 8,
   "id": "954f861c",
   "metadata": {},
   "outputs": [
    {
     "name": "stderr",
     "output_type": "stream",
     "text": [
      "/var/folders/cb/n7klvybs09g2ycl4j5z4b5800000gn/T/ipykernel_1651/688256556.py:2: SettingWithCopyWarning: \n",
      "A value is trying to be set on a copy of a slice from a DataFrame.\n",
      "Try using .loc[row_indexer,col_indexer] = value instead\n",
      "\n",
      "See the caveats in the documentation: https://pandas.pydata.org/pandas-docs/stable/user_guide/indexing.html#returning-a-view-versus-a-copy\n",
      "  df_lamoda_['name'] = df_lamoda_['name'].apply(clean_name)\n"
     ]
    }
   ],
   "source": [
    "df_lamoda_ = df_lamoda[['itemid', 'name', 'brand']]\n",
    "df_lamoda_['name'] = df_lamoda_['name'].apply(clean_name)\n",
    "df_lamoda_ = df_lamoda_.sort_values(by=['brand']).reset_index(drop=True)\n",
    "df_lamoda_['source'] = 'lamoda'"
   ]
  },
  {
   "cell_type": "code",
   "execution_count": 9,
   "id": "f7368bec",
   "metadata": {},
   "outputs": [],
   "source": [
    "df = pd.merge(df_lamoda_, df_ozon_, how='outer', on='name')"
   ]
  },
  {
   "cell_type": "code",
   "execution_count": 10,
   "id": "9dd2740e",
   "metadata": {},
   "outputs": [],
   "source": [
    "df = df.dropna(subset=['itemid_x', 'itemid_y'])"
   ]
  },
  {
   "cell_type": "code",
   "execution_count": 11,
   "id": "61c892cb",
   "metadata": {},
   "outputs": [],
   "source": [
    "res_df = df[~df['name'].isin(['два мяча', 'patrol', 'sigma', 'timejump', 's.oliver'])][['itemid_x', 'itemid_y']]"
   ]
  },
  {
   "cell_type": "code",
   "execution_count": 12,
   "id": "2638728c",
   "metadata": {},
   "outputs": [],
   "source": [
    "res_df = res_df.rename(columns={'itemid_x':'id_lamoda', 'itemid_y':'id_ozon'})"
   ]
  },
  {
   "cell_type": "code",
   "execution_count": 21,
   "id": "8c36e37d",
   "metadata": {},
   "outputs": [
    {
     "data": {
      "text/plain": [
       "<sqlite3.Cursor at 0x112570b20>"
      ]
     },
     "execution_count": 21,
     "metadata": {},
     "output_type": "execute_result"
    }
   ],
   "source": [
    "con.execute('''CREATE TABLE items_matching\n",
    "            (itemid_lamoda integer, itemid_ozon integer)\n",
    "                        ''')"
   ]
  },
  {
   "cell_type": "code",
   "execution_count": 22,
   "id": "90be04f2",
   "metadata": {},
   "outputs": [
    {
     "data": {
      "text/plain": [
       "<sqlite3.Cursor at 0x112570650>"
      ]
     },
     "execution_count": 22,
     "metadata": {},
     "output_type": "execute_result"
    }
   ],
   "source": [
    "cur.executemany('INSERT INTO items_matching (itemid_lamoda, itemid_ozon) VALUES(?, ?)', res_df.values.tolist())"
   ]
  },
  {
   "cell_type": "code",
   "execution_count": 23,
   "id": "fb5332e1",
   "metadata": {},
   "outputs": [
    {
     "data": {
      "text/plain": [
       "<sqlite3.Cursor at 0x112570650>"
      ]
     },
     "execution_count": 23,
     "metadata": {},
     "output_type": "execute_result"
    }
   ],
   "source": [
    "cur.execute('select * from items_matching')"
   ]
  },
  {
   "cell_type": "code",
   "execution_count": 30,
   "id": "1536cee6",
   "metadata": {},
   "outputs": [],
   "source": [
    "con.commit()"
   ]
  },
  {
   "cell_type": "code",
   "execution_count": 31,
   "id": "c9804972",
   "metadata": {},
   "outputs": [],
   "source": [
    "con.close()"
   ]
  },
  {
   "cell_type": "code",
   "execution_count": 29,
   "id": "9ee200e6",
   "metadata": {},
   "outputs": [
    {
     "data": {
      "text/plain": [
       "<sqlite3.Cursor at 0x112573500>"
      ]
     },
     "execution_count": 29,
     "metadata": {},
     "output_type": "execute_result"
    }
   ],
   "source": []
  },
  {
   "cell_type": "code",
   "execution_count": null,
   "id": "9c47e1a6",
   "metadata": {},
   "outputs": [],
   "source": []
  }
 ],
 "metadata": {
  "kernelspec": {
   "display_name": "Python 3 (ipykernel)",
   "language": "python",
   "name": "python3"
  },
  "language_info": {
   "codemirror_mode": {
    "name": "ipython",
    "version": 3
   },
   "file_extension": ".py",
   "mimetype": "text/x-python",
   "name": "python",
   "nbconvert_exporter": "python",
   "pygments_lexer": "ipython3",
   "version": "3.8.9"
  }
 },
 "nbformat": 4,
 "nbformat_minor": 5
}
